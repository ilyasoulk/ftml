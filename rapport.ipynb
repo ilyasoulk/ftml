{
 "cells": [
  {
   "cell_type": "markdown",
   "metadata": {},
   "source": [
    "# I. Bayes Estimator and Bayes Risk\n",
    "\n",
    "We simulate an experiment to determine the likelihood of a person being a professional football player, an amateur, or neither, based on the position they usually play. \n",
    "\n",
    "## Question 1 (M)\n",
    "\n",
    "#### A. Setup\n",
    "\n",
    "##### Input Space \\(X\\)\n",
    "The input space \\(X = \\{0, 1, 2, 3\\}\\) represents the positions played on a football field:\n",
    "- \\(0\\) - Goalkeeper\n",
    "- \\(1\\) - Defender\n",
    "- \\(2\\) - Midfielder\n",
    "- \\(3\\) - Attacker\n",
    "\n",
    "##### Output Space \\(Y\\)\n",
    "The output space \\(Y = \\{0, 1, 2\\}\\) categorizes the football playing status of a person:\n",
    "- \\(0\\) - Regular person\n",
    "- \\(1\\) - Amateur\n",
    "- \\(2\\) - Professional\n",
    "\n",
    "##### Probability Model for \\(X\\)\n",
    "\\(X\\) follows a multinomial distribution with a single trial and probabilities \\([0.1, 0.2, 0.3, 0.4]\\) for each of the positions respectively. This suggests that in our sample, attackers are most frequent, followed by midfielders, defenders, and goalkeepers.\n",
    "\n",
    "#### B. Conditional Distributions \\(Y | X\\)\n",
    "- $Y = Mult(1, [0.7, 0.2, 0.1])$ if $X = 0$\n",
    "- $Y = Mult(1, [0.8, 0.15, 0.05])$ if $X = 1$\n",
    "- $Y = Mult(1, [0.9, 0.08, 0.02])$ if $X >= 2$\n",
    "\n",
    "\n",
    "#### C. Bayes Estimator\n",
    "\n",
    "\n",
    "- $P(Y=0) = \\sum_{i=0}^3 P(Y=0|X=x_i)*P(X=x_i) = 0.86$\n",
    "- $P(Y=1) = \\sum_{i=0}^3 P(Y=1|X=x_i)*P(X=x_i) = 0.106$\n",
    "- $P(Y=2) = \\sum_{i=0}^3 P(Y=2|X=x_i)*P(X=x_i) = 0.0304$\n",
    "\n",
    "$f^*(x) = 0$\n",
    "\n",
    "#### D. Bayes Risk\n",
    "\n",
    "$R(f^*) = E[I(Y, f^*(x))] = \\sum_{i=0}^3 P(Y \\neq 0 | X=x_i)*P(X=x_i) = 0.14$"
   ]
  },
  {
   "cell_type": "markdown",
   "metadata": {},
   "source": [
    "## Question 2 (C)\n",
    "\n",
    "- Bayes estimator : $f^*(x) = 0$\n",
    "- Estimator f1 : $f_1(x) = 2$ if $X=0$ and $0$ otherwise"
   ]
  },
  {
   "cell_type": "code",
   "execution_count": null,
   "metadata": {},
   "outputs": [],
   "source": [
    "import numpy as np\n",
    "\n",
    "def bayes() -> None:\n",
    "\n",
    "    n_samples = int(1e6)\n",
    "\n",
    "    X = np.random.multinomial(1, [0.1, 0.2, 0.3, 0.4], size=n_samples)\n",
    "\n",
    "    # Copy X for parameters\n",
    "    multinomial_parameters = np.zeros((n_samples, 3))  # Assuming there are 3 categories\n",
    "    # Set parameters for each category using boolean indexing\n",
    "    multinomial_parameters[X[:, 0] == 1] = [0.7, 0.2, 0.1]\n",
    "    multinomial_parameters[X[:, 1] == 1] = [0.8, 0.15, 0.05]\n",
    "    multinomial_parameters[(X[:, 2] == 1) | (X[:, 3] == 1)] = [0.9, 0.08, 0.02]\n",
    "\n",
    "    # Generate new multinomial distribution based on updated parameters\n",
    "    y = np.array([np.random.multinomial(1, p) for p in multinomial_parameters])\n",
    "\n",
    "    y_pred_bayes = np.zeros((n_samples, 3))\n",
    "    y_pred_bayes[:, 0] = 1\n",
    "\n",
    "    # print(f\"Bayes estimator: {y_pred_bayes}\")\n",
    "    y_pred_f1 = np.zeros((n_samples, 3))\n",
    "    y_pred_f1[X[:, 0] == 1] = [0, 0, 1]\n",
    "    y_pred_f1[(X[:, 1] == 1) | (X[:, 2] == 1) | (X[:, 3] == 1)] = [1, 0, 0]\n",
    "\n",
    "    emperical_risk_bayes = np.mean(np.any(y != y_pred_bayes, axis=1))\n",
    "    emperical_risk_f1 = np.mean(np.any(y != y_pred_f1, axis=1))\n",
    "\n",
    "    print(f\"Empirical risk for Bayes estimator: {emperical_risk_bayes}\")\n",
    "    print(f\"Empirical risk for f1 estimator: {emperical_risk_f1}\")\n",
    "\n",
    "bayes()"
   ]
  },
  {
   "cell_type": "markdown",
   "metadata": {},
   "source": [
    "# II. Bayes risk with absolute loss"
   ]
  },
  {
   "cell_type": "markdown",
   "metadata": {},
   "source": [
    "## Question 1 (M)\n",
    "\n",
    "- A function that respects the requirements is $f(x) = x^3$\n",
    "- $f'(x) = 3x^2$ and $f'(x) = 0 \\iff x = 0$"
   ]
  },
  {
   "cell_type": "code",
   "execution_count": null,
   "metadata": {},
   "outputs": [],
   "source": []
  },
  {
   "cell_type": "code",
   "execution_count": null,
   "metadata": {},
   "outputs": [],
   "source": []
  },
  {
   "cell_type": "markdown",
   "metadata": {},
   "source": []
  }
 ],
 "metadata": {
  "kernelspec": {
   "display_name": "ml",
   "language": "python",
   "name": "python3"
  },
  "language_info": {
   "name": "python",
   "version": "3.9.18"
  }
 },
 "nbformat": 4,
 "nbformat_minor": 2
}
